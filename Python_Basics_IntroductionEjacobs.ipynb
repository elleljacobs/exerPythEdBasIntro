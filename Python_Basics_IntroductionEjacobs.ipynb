{
 "cells": [
  {
   "cell_type": "markdown",
   "id": "3cfb3237",
   "metadata": {
    "deletable": false,
    "editable": false,
    "nbgrader": {
     "cell_type": "markdown",
     "checksum": "d7b8ab195168c2cf11b47b100acdc7c6",
     "grade": false,
     "grade_id": "cell-39c074ba0bb27d83",
     "locked": true,
     "schema_version": 3,
     "solution": false,
     "task": false
    }
   },
   "source": [
    "### Instructions\n",
    "\n",
    "* Sign up for the free course on Educative, __Learn Python 3 From Scratch__\n",
    "* https://www.educative.io/courses/learn-python-3-from-scratch\n",
    "* Complete the programming exercises below as you go through the course.\n",
    "* Delete or comment out the line of code in each cell which says `raise NotImplementedError()` and replace it with your own."
   ]
  },
  {
   "cell_type": "markdown",
   "id": "eafcd8de",
   "metadata": {
    "deletable": false,
    "editable": false,
    "nbgrader": {
     "cell_type": "markdown",
     "checksum": "0ad583ceae6bb257c57795ad930fd076",
     "grade": false,
     "grade_id": "cell-cd0432914e330767",
     "locked": true,
     "schema_version": 3,
     "solution": false,
     "task": false
    }
   },
   "source": [
    "# Educative - Introduction\n",
    "\n",
    "https://www.educative.io/courses/learn-python-3-from-scratch/g7jr5MYkV8G"
   ]
  },
  {
   "cell_type": "markdown",
   "id": "58662537",
   "metadata": {
    "deletable": false,
    "editable": false,
    "nbgrader": {
     "cell_type": "markdown",
     "checksum": "41f3fe9909f51b0d75e1a575d5c870af",
     "grade": false,
     "grade_id": "cell-06061a080ea59082",
     "locked": true,
     "schema_version": 3,
     "solution": false,
     "task": false
    }
   },
   "source": [
    "Write code in the cell below to print the statement `Hello World`"
   ]
  },
  {
   "cell_type": "code",
   "execution_count": 1,
   "id": "123a15d1",
   "metadata": {
    "deletable": false,
    "nbgrader": {
     "cell_type": "code",
     "checksum": "743eb654e2b0e496e687be1b8c4e6dea",
     "grade": true,
     "grade_id": "cell-d62e3935ff7de400",
     "locked": false,
     "points": 1,
     "schema_version": 3,
     "solution": true,
     "task": false
    }
   },
   "outputs": [
    {
     "ename": "NotImplementedError",
     "evalue": "",
     "output_type": "error",
     "traceback": [
      "\u001b[0;31m---------------------------------------------------------------------------\u001b[0m",
      "\u001b[0;31mNotImplementedError\u001b[0m                       Traceback (most recent call last)",
      "\u001b[1;32m/Users/elliejacobs/Documents/Fall 2022/N6806 CS/exerPythEdBasIntro/Python_Basics_Introduction.ipynb Cell 4\u001b[0m in \u001b[0;36m<cell line: 2>\u001b[0;34m()\u001b[0m\n\u001b[1;32m      <a href='vscode-notebook-cell:/Users/elliejacobs/Documents/Fall%202022/N6806%20CS/exerPythEdBasIntro/Python_Basics_Introduction.ipynb#W3sZmlsZQ%3D%3D?line=0'>1</a>\u001b[0m \u001b[39m# YOUR CODE HERE\u001b[39;00m\n\u001b[0;32m----> <a href='vscode-notebook-cell:/Users/elliejacobs/Documents/Fall%202022/N6806%20CS/exerPythEdBasIntro/Python_Basics_Introduction.ipynb#W3sZmlsZQ%3D%3D?line=1'>2</a>\u001b[0m \u001b[39mraise\u001b[39;00m \u001b[39mNotImplementedError\u001b[39;00m()\n",
      "\u001b[0;31mNotImplementedError\u001b[0m: "
     ]
    }
   ],
   "source": [
    "\n",
    "# YOUR CODE HERE\n",
    "raise NotImplementedError()\n"
   ]
  },
  {
   "cell_type": "markdown",
   "id": "0ccbd778",
   "metadata": {
    "deletable": false,
    "editable": false,
    "nbgrader": {
     "cell_type": "markdown",
     "checksum": "7e16039b4e7e4b2cf914a4647fc69030",
     "grade": false,
     "grade_id": "cell-d3aae9e607de369c",
     "locked": true,
     "schema_version": 3,
     "solution": false,
     "task": false
    }
   },
   "source": [
    "Write code in the cell below to print the numbers 50, 1000, 3.142 on separate lines."
   ]
  },
  {
   "cell_type": "code",
   "execution_count": null,
   "id": "406612a9",
   "metadata": {
    "deletable": false,
    "nbgrader": {
     "cell_type": "code",
     "checksum": "009aa4dd182eaf610d17a205d34968c7",
     "grade": true,
     "grade_id": "cell-297469e1a0737db3",
     "locked": false,
     "points": 1,
     "schema_version": 3,
     "solution": true,
     "task": false
    }
   },
   "outputs": [],
   "source": [
    "\n",
    "# YOUR CODE HERE\n",
    "raise NotImplementedError()"
   ]
  },
  {
   "cell_type": "markdown",
   "id": "105d56af",
   "metadata": {
    "deletable": false,
    "editable": false,
    "nbgrader": {
     "cell_type": "markdown",
     "checksum": "c2a9cc33d3d26f549392b10fc577fea6",
     "grade": false,
     "grade_id": "cell-78254307a8c9fb79",
     "locked": true,
     "schema_version": 3,
     "solution": false,
     "task": false
    }
   },
   "source": [
    "Write code in the cell below to print the numbers 50, 1000, 3.142, `Hello World` all on one line."
   ]
  },
  {
   "cell_type": "code",
   "execution_count": null,
   "id": "f96cf395",
   "metadata": {
    "deletable": false,
    "nbgrader": {
     "cell_type": "code",
     "checksum": "1f8022f86f59b11742bef504c425b899",
     "grade": true,
     "grade_id": "cell-aa939aca5a7e3cd4",
     "locked": false,
     "points": 1,
     "schema_version": 3,
     "solution": true,
     "task": false
    }
   },
   "outputs": [],
   "source": [
    "\n",
    "# YOUR CODE HERE\n",
    "raise NotImplementedError()"
   ]
  },
  {
   "cell_type": "markdown",
   "id": "593df28a",
   "metadata": {
    "deletable": false,
    "editable": false,
    "nbgrader": {
     "cell_type": "markdown",
     "checksum": "0f69f39a6fa3422c0e076006ef7eec13",
     "grade": false,
     "grade_id": "cell-da077b6eaaa5c534",
     "locked": true,
     "schema_version": 3,
     "solution": false,
     "task": false
    }
   },
   "source": [
    "Add some comments in the cell below."
   ]
  },
  {
   "cell_type": "code",
   "execution_count": null,
   "id": "57f1d10a",
   "metadata": {
    "deletable": false,
    "nbgrader": {
     "cell_type": "code",
     "checksum": "f0511d9bd8f69ca3b65040b24a421940",
     "grade": true,
     "grade_id": "cell-ecf9744730367ba4",
     "locked": false,
     "points": 1,
     "schema_version": 3,
     "solution": true,
     "task": false
    }
   },
   "outputs": [],
   "source": [
    "\n",
    "# YOUR CODE HERE\n",
    "raise NotImplementedError()"
   ]
  },
  {
   "cell_type": "markdown",
   "id": "65427b48",
   "metadata": {},
   "source": [
    "Add a docstring in the cell below."
   ]
  },
  {
   "cell_type": "code",
   "execution_count": null,
   "id": "820cb4ad",
   "metadata": {
    "deletable": false,
    "nbgrader": {
     "cell_type": "code",
     "checksum": "07040e53ef9a4967d80e2b914001181c",
     "grade": true,
     "grade_id": "cell-d019c022c6bb426f",
     "locked": false,
     "points": 1,
     "schema_version": 3,
     "solution": true,
     "task": false
    }
   },
   "outputs": [],
   "source": [
    "\n",
    "# YOUR CODE HERE\n",
    "raise NotImplementedError()\n",
    "Print(\"Hello World\")\n",
    "Print(50)\n",
    "Print(1000)\n",
    "Print(3.142)\n",
    "print(50, 1000, 3.142, \"Hello World\")\n",
    "\n",
    "print(\"Hello\", end=\"\")\n",
    "Print(\"World\")\n",
    "Print(\"Hello World\")\n",
    "\n",
    "Print(\"hello world\")\n",
    "\n",
    "\n",
    "\n",
    "\n"
   ]
  },
  {
   "cell_type": "code",
   "execution_count": 2,
   "id": "4ab52439",
   "metadata": {},
   "outputs": [],
   "source": [
    "print(\"Hello World\")\n",
    "print(50)\n",
    "print(1000)\n",
    "print(3.142)\n",
    "\n",
    "print(\"Hello\", end=\"\")\n",
    "Print(\"World\")\n",
    "\n",
    "print(\"Hello\", end=\" \")\n",
    "Print(\"World\")"
   ]
  },
  {
   "cell_type": "code",
   "execution_count": null,
   "id": "29c2fa9b",
   "metadata": {},
   "outputs": [],
   "source": [
    "print(10)\n",
    "print(-3000)\n",
    "\n",
    "num= 12345678\n",
    "print(num)\n",
    "print(1.00000000005)\n",
    "print(-85.6701)\n",
    "\n",
    "flt_pt = 1.23456789\n",
    "print(flt_pt)\n",
    "\n"
   ]
  },
  {
   "cell_type": "code",
   "execution_count": null,
   "id": "1c1bab61",
   "metadata": {},
   "outputs": [],
   "source": [
    "print(complex(10, 20))\n",
    "print(complex(2.5, -18.2))\n",
    "\n",
    "complex_1 = complex(0,2)\n",
    "complex_2 = complex (2,0)\n",
    "\n",
    "print(complex_1)\n",
    "print(complex_2)\n"
   ]
  },
  {
   "cell_type": "code",
   "execution_count": null,
   "id": "c4dd173b",
   "metadata": {},
   "outputs": [],
   "source": [
    "true=any\n",
    "print(true)\n",
    "f_bool = False\n",
    "\n",
    "print(f_bool)\n",
    "\n"
   ]
  },
  {
   "cell_type": "code",
   "execution_count": null,
   "id": "ee2e772c",
   "metadata": {},
   "outputs": [],
   "source": [
    "print(\"Harry Potter\")\n",
    "\n",
    "got = 'Game of Thrones...'\n",
    "print(got)\n",
    "print(\"$\")\n",
    "\n",
    "empty = \"\"\n",
    "print(empty)\n",
    "\n",
    "multiple_lines = '''\n",
    "multi-line string.'''\n",
    "print(multiple_lines)"
   ]
  },
  {
   "cell_type": "code",
   "execution_count": null,
   "id": "49b9a3c5",
   "metadata": {},
   "outputs": [],
   "source": [
    "random_string = \"I am Batman\" # 11 characters\n",
    "print(len(random_string))\n",
    "\n",
    "batman= \"Bruce Wayne\"\n",
    "\n",
    "first= batman[0] # accessing the first character\n",
    "print(first)\n",
    "\n",
    "space = batman[5] # accessing the empty space in the string\n",
    "print(space)\n",
    "\n",
    "last = batman[len(batman) -1]\n",
    "print(last)\n",
    "# The following will proce an error since the index is out of bounds\n",
    "# err = battman [lens(batman)]\n",
    "\n",
    "print(batman[-1])\n",
    "print(batman[-5])\n",
    "string = \"immutability\"\n",
    "\n",
    "\n",
    "str1 = \"hello\"\n",
    "print(id(str1))\n",
    "\n",
    "str1= \"bye\"\n",
    "print(id(str1))\n",
    "\n",
    "string = u\"this is unicode\""
   ]
  },
  {
   "cell_type": "code",
   "execution_count": null,
   "id": "bfe96638",
   "metadata": {},
   "outputs": [],
   "source": [
    "\n",
    "\n",
    "\n",
    "my_string = \"This is MY string!\"\n",
    "print(my_string[0:7]) # A step of 1\n",
    "print(my_string[0:7:2]) # A step of 2\n",
    "print(my_string[0:7:5]) #A step of 5"
   ]
  },
  {
   "cell_type": "code",
   "execution_count": null,
   "id": "ccc7aab8",
   "metadata": {},
   "outputs": [],
   "source": [
    "my_string = \"This is MY string!\"\n",
    "print(my_string[0:4]) # From the start till before the 4th index\n",
    "print(my_string[1:7])\n",
    "print(my_string[8:len(my_string)]) # From the 8th index till the end"
   ]
  },
  {
   "cell_type": "code",
   "execution_count": null,
   "id": "deac3cc2",
   "metadata": {},
   "outputs": [],
   "source": [
    "my_string = \"This is MY string!\"\n",
    "print(my_string[13:3:-1]) # Take 1 step back each time\n",
    "print(my_string[17:0:-2]) # Take 2 steps back. The opposite of what happens in the slide above\n"
   ]
  },
  {
   "cell_type": "code",
   "execution_count": null,
   "id": "ec7c003b",
   "metadata": {},
   "outputs": [],
   "source": [
    "my_string = \"This is MY string!\"\n",
    "print(my_string[:8]) \n",
    "print(my_string[8:]) \n",
    "print(my_string[:]) \n",
    "print(my_string[::-1]) "
   ]
  }
 ],
 "metadata": {
  "kernelspec": {
   "display_name": "Python 3.9.12 ('base')",
   "language": "python",
   "name": "python3"
  },
  "language_info": {
   "codemirror_mode": {
    "name": "ipython",
    "version": 3
   },
   "file_extension": ".py",
   "mimetype": "text/x-python",
   "name": "python",
   "nbconvert_exporter": "python",
   "pygments_lexer": "ipython3",
   "version": "3.9.12"
  },
  "vscode": {
   "interpreter": {
    "hash": "8282a213201f6a052bc854146edef02a6a31f33ac40410688ced77ebf2f5c49b"
   }
  }
 },
 "nbformat": 4,
 "nbformat_minor": 5
}
